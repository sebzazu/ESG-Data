{
 "cells": [
  {
   "cell_type": "code",
   "execution_count": 3,
   "id": "b44ed122",
   "metadata": {},
   "outputs": [],
   "source": [
    "from yahooquery import Ticker\n",
    "import pandas as pd\n",
    "\n",
    "\n",
    "\n",
    "esg_es = []\n",
    "esg_ss = []\n",
    "esg_gs = []\n",
    "prices = []\n",
    "\n",
    "\n",
    "\n",
    "all_symbols = ['AAPL', 'AMZN', 'MSFT', 'GOOGL', 'TSLA', 'GM', 'XOM', 'CVX', 'JNJ', 'PFE', 'PEP', 'KO', 'DIS', 'SYY', 'MCD', 'PG', 'VZ' ]\n",
    "\n",
    "\n",
    "\n",
    "#Function to get data relevant to model, stock symbols in argument\n",
    "def create_df(stocks):\n",
    "    for stock in stocks:\n",
    "        ticker = Ticker(stock)\n",
    "\n",
    "        esg_data = ticker.esg_scores\n",
    "       \n",
    "   \n",
    "        esg_e = esg_data[stock]['environmentScore']\n",
    "        esg_s = esg_data[stock]['socialScore']\n",
    "        esg_g = esg_data[stock]['governanceScore']\n",
    "\n",
    "      \n",
    "\n",
    "        esg_es.append(esg_e)\n",
    "        esg_ss.append(esg_s)\n",
    "        esg_gs.append(esg_g)\n",
    "\n",
    "        price_data = ticker.financial_data\n",
    "\n",
    "        price = price_data[stock]['currentPrice']\n",
    "\n",
    "        prices.append(price)\n",
    "\n",
    "\n",
    "\n",
    "\n",
    "    all_data = {\"Ticker\":stocks, \"Price\":prices, \"Environment Score\":esg_es, \"Social Score\":esg_ss,\"Governance Score\":esg_gs}\n",
    "  \n",
    "    df = pd.DataFrame(all_data)\n",
    "\n",
    "        \n",
    "    return df\n",
    "\n",
    "df = create_df(all_symbols)\n",
    "\n",
    "df\n",
    "\n",
    "\n",
    "\n",
    "\n",
    "\n",
    "\n",
    "\n",
    "\n"
   ]
  },
  {
   "cell_type": "code",
   "execution_count": null,
   "id": "1f547520",
   "metadata": {},
   "outputs": [],
   "source": []
  }
 ],
 "metadata": {
  "kernelspec": {
   "display_name": "Python 3 (ipykernel)",
   "language": "python",
   "name": "python3"
  },
  "language_info": {
   "codemirror_mode": {
    "name": "ipython",
    "version": 3
   },
   "file_extension": ".py",
   "mimetype": "text/x-python",
   "name": "python",
   "nbconvert_exporter": "python",
   "pygments_lexer": "ipython3",
   "version": "3.10.6"
  },
  "vscode": {
   "interpreter": {
    "hash": "aee8b7b246df8f9039afb4144a1f6fd8d2ca17a180786b69acc140d282b71a49"
   }
  }
 },
 "nbformat": 4,
 "nbformat_minor": 5
}
